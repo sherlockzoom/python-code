{
 "cells": [
  {
   "cell_type": "code",
   "execution_count": 1,
   "metadata": {
    "collapsed": true
   },
   "outputs": [],
   "source": [
    "import pandas as pd"
   ]
  },
  {
   "cell_type": "markdown",
   "metadata": {},
   "source": [
    "# 1. 用户的基本属性`user_info.txt`。共6个字段，其中字段性别为0表示性别未知。\n",
    "\n",
    "> 用户id,性别,职业,教育程度,婚姻状态,户口类型"
   ]
  },
  {
   "cell_type": "code",
   "execution_count": 2,
   "metadata": {
    "collapsed": false
   },
   "outputs": [
    {
     "data": {
      "text/html": [
       "<div>\n",
       "<table border=\"1\" class=\"dataframe\">\n",
       "  <thead>\n",
       "    <tr style=\"text-align: right;\">\n",
       "      <th></th>\n",
       "      <th>用户id</th>\n",
       "      <th>性别</th>\n",
       "      <th>职业</th>\n",
       "      <th>教育程度</th>\n",
       "      <th>婚姻状态</th>\n",
       "      <th>户口类型</th>\n",
       "    </tr>\n",
       "  </thead>\n",
       "  <tbody>\n",
       "    <tr>\n",
       "      <th>0</th>\n",
       "      <td>3150</td>\n",
       "      <td>1</td>\n",
       "      <td>2</td>\n",
       "      <td>4</td>\n",
       "      <td>1</td>\n",
       "      <td>4</td>\n",
       "    </tr>\n",
       "    <tr>\n",
       "      <th>1</th>\n",
       "      <td>6965</td>\n",
       "      <td>1</td>\n",
       "      <td>2</td>\n",
       "      <td>4</td>\n",
       "      <td>3</td>\n",
       "      <td>2</td>\n",
       "    </tr>\n",
       "    <tr>\n",
       "      <th>2</th>\n",
       "      <td>1265</td>\n",
       "      <td>1</td>\n",
       "      <td>3</td>\n",
       "      <td>4</td>\n",
       "      <td>3</td>\n",
       "      <td>1</td>\n",
       "    </tr>\n",
       "    <tr>\n",
       "      <th>3</th>\n",
       "      <td>6360</td>\n",
       "      <td>1</td>\n",
       "      <td>2</td>\n",
       "      <td>4</td>\n",
       "      <td>3</td>\n",
       "      <td>2</td>\n",
       "    </tr>\n",
       "    <tr>\n",
       "      <th>4</th>\n",
       "      <td>2583</td>\n",
       "      <td>2</td>\n",
       "      <td>2</td>\n",
       "      <td>2</td>\n",
       "      <td>1</td>\n",
       "      <td>1</td>\n",
       "    </tr>\n",
       "  </tbody>\n",
       "</table>\n",
       "</div>"
      ],
      "text/plain": [
       "   用户id  性别  职业  教育程度  婚姻状态  户口类型\n",
       "0  3150   1   2     4     1     4\n",
       "1  6965   1   2     4     3     2\n",
       "2  1265   1   3     4     3     1\n",
       "3  6360   1   2     4     3     2\n",
       "4  2583   2   2     2     1     1"
      ]
     },
     "execution_count": 2,
     "metadata": {},
     "output_type": "execute_result"
    }
   ],
   "source": [
    "train_user_info = pd.read_csv(\"train/user_info_train.txt\", header=None)\n",
    "train_user_info.columns = [u'用户id',u'性别',\n",
    "                           u'职业',u'教育程度',\n",
    "                           u'婚姻状态',u'户口类型']\n",
    "train_user_info.head()"
   ]
  },
  {
   "cell_type": "code",
   "execution_count": 23,
   "metadata": {
    "collapsed": false
   },
   "outputs": [
    {
     "name": "stdout",
     "output_type": "stream",
     "text": [
      "<class 'pandas.core.frame.DataFrame'>\n",
      "RangeIndex: 55596 entries, 0 to 55595\n",
      "Data columns (total 6 columns):\n",
      "用户id    55596 non-null int64\n",
      "性别      55596 non-null int64\n",
      "职业      55596 non-null int64\n",
      "教育程度    55596 non-null int64\n",
      "婚姻状态    55596 non-null int64\n",
      "户口类型    55596 non-null int64\n",
      "dtypes: int64(6)\n",
      "memory usage: 2.5 MB\n"
     ]
    }
   ],
   "source": [
    "train_user_info.info()"
   ]
  },
  {
   "cell_type": "markdown",
   "metadata": {},
   "source": [
    "# 2. 银行流水记录bank_detail.txt。共5个字段，其中，第2个字段，时间戳为0表示时间未知；第3个字段，交易类型有两个值，1表示支出、0表示收入；第5个字段，工资收入标记为1时，表示工资收入。\n",
    "\n",
    "> 用户id,时间戳,交易类型,交易金额,工资收入标记"
   ]
  },
  {
   "cell_type": "code",
   "execution_count": 4,
   "metadata": {
    "collapsed": false
   },
   "outputs": [
    {
     "data": {
      "text/html": [
       "<div>\n",
       "<table border=\"1\" class=\"dataframe\">\n",
       "  <thead>\n",
       "    <tr style=\"text-align: right;\">\n",
       "      <th></th>\n",
       "      <th>用户id</th>\n",
       "      <th>时间戳</th>\n",
       "      <th>交易类型</th>\n",
       "      <th>交易金额</th>\n",
       "      <th>工资收入标记</th>\n",
       "    </tr>\n",
       "  </thead>\n",
       "  <tbody>\n",
       "    <tr>\n",
       "      <th>0</th>\n",
       "      <td>6965</td>\n",
       "      <td>5894316387</td>\n",
       "      <td>0</td>\n",
       "      <td>13.756664</td>\n",
       "      <td>0</td>\n",
       "    </tr>\n",
       "    <tr>\n",
       "      <th>1</th>\n",
       "      <td>6965</td>\n",
       "      <td>5894321388</td>\n",
       "      <td>1</td>\n",
       "      <td>13.756664</td>\n",
       "      <td>0</td>\n",
       "    </tr>\n",
       "    <tr>\n",
       "      <th>2</th>\n",
       "      <td>6965</td>\n",
       "      <td>5897553564</td>\n",
       "      <td>0</td>\n",
       "      <td>14.449810</td>\n",
       "      <td>0</td>\n",
       "    </tr>\n",
       "    <tr>\n",
       "      <th>3</th>\n",
       "      <td>6965</td>\n",
       "      <td>5897563463</td>\n",
       "      <td>1</td>\n",
       "      <td>10.527763</td>\n",
       "      <td>0</td>\n",
       "    </tr>\n",
       "    <tr>\n",
       "      <th>4</th>\n",
       "      <td>6965</td>\n",
       "      <td>5897564598</td>\n",
       "      <td>1</td>\n",
       "      <td>13.651303</td>\n",
       "      <td>0</td>\n",
       "    </tr>\n",
       "  </tbody>\n",
       "</table>\n",
       "</div>"
      ],
      "text/plain": [
       "   用户id         时间戳  交易类型       交易金额  工资收入标记\n",
       "0  6965  5894316387     0  13.756664       0\n",
       "1  6965  5894321388     1  13.756664       0\n",
       "2  6965  5897553564     0  14.449810       0\n",
       "3  6965  5897563463     1  10.527763       0\n",
       "4  6965  5897564598     1  13.651303       0"
      ]
     },
     "execution_count": 4,
     "metadata": {},
     "output_type": "execute_result"
    }
   ],
   "source": [
    "train_bank_detail = pd.read_csv(\"train/bank_detail_train.txt\", header=None)\n",
    "train_bank_detail.columns = [u'用户id',u'时间戳',\n",
    "                             u'交易类型',u'交易金额',\n",
    "                             u'工资收入标记']\n",
    "train_bank_detail.head()"
   ]
  },
  {
   "cell_type": "code",
   "execution_count": 22,
   "metadata": {
    "collapsed": false
   },
   "outputs": [
    {
     "name": "stdout",
     "output_type": "stream",
     "text": [
      "<class 'pandas.core.frame.DataFrame'>\n",
      "RangeIndex: 6070197 entries, 0 to 6070196\n",
      "Data columns (total 5 columns):\n",
      "用户id      int64\n",
      "时间戳       int64\n",
      "交易类型      int64\n",
      "交易金额      float64\n",
      "工资收入标记    int64\n",
      "dtypes: float64(1), int64(4)\n",
      "memory usage: 231.6 MB\n"
     ]
    }
   ],
   "source": [
    "train_bank_detail.info()"
   ]
  },
  {
   "cell_type": "markdown",
   "metadata": {},
   "source": [
    "# 3. 用户浏览行为browse_history.txt。共4个字段。其中，第2个字段，时间戳为0表示时间未知。\n",
    "\n",
    "> 用户id,时间戳,浏览行为数据,浏览子行为编号"
   ]
  },
  {
   "cell_type": "code",
   "execution_count": 9,
   "metadata": {
    "collapsed": false
   },
   "outputs": [
    {
     "data": {
      "text/html": [
       "<div>\n",
       "<table border=\"1\" class=\"dataframe\">\n",
       "  <thead>\n",
       "    <tr style=\"text-align: right;\">\n",
       "      <th></th>\n",
       "      <th>用户id</th>\n",
       "      <th>时间戳</th>\n",
       "      <th>浏览行为数据</th>\n",
       "      <th>浏览子行为编号</th>\n",
       "    </tr>\n",
       "  </thead>\n",
       "  <tbody>\n",
       "    <tr>\n",
       "      <th>0</th>\n",
       "      <td>34801</td>\n",
       "      <td>5926003545</td>\n",
       "      <td>173</td>\n",
       "      <td>1</td>\n",
       "    </tr>\n",
       "    <tr>\n",
       "      <th>1</th>\n",
       "      <td>34801</td>\n",
       "      <td>5926003545</td>\n",
       "      <td>164</td>\n",
       "      <td>4</td>\n",
       "    </tr>\n",
       "    <tr>\n",
       "      <th>2</th>\n",
       "      <td>34801</td>\n",
       "      <td>5926003545</td>\n",
       "      <td>38</td>\n",
       "      <td>7</td>\n",
       "    </tr>\n",
       "    <tr>\n",
       "      <th>3</th>\n",
       "      <td>34801</td>\n",
       "      <td>5926003545</td>\n",
       "      <td>45</td>\n",
       "      <td>1</td>\n",
       "    </tr>\n",
       "    <tr>\n",
       "      <th>4</th>\n",
       "      <td>34801</td>\n",
       "      <td>5926003545</td>\n",
       "      <td>110</td>\n",
       "      <td>7</td>\n",
       "    </tr>\n",
       "  </tbody>\n",
       "</table>\n",
       "</div>"
      ],
      "text/plain": [
       "    用户id         时间戳  浏览行为数据  浏览子行为编号\n",
       "0  34801  5926003545     173        1\n",
       "1  34801  5926003545     164        4\n",
       "2  34801  5926003545      38        7\n",
       "3  34801  5926003545      45        1\n",
       "4  34801  5926003545     110        7"
      ]
     },
     "execution_count": 9,
     "metadata": {},
     "output_type": "execute_result"
    }
   ],
   "source": [
    "train_browse_history = pd.read_csv(\"train/browse_history_train.txt\", header=None)\n",
    "train_browse_history.columns = [u'用户id',u'时间戳',\n",
    "                                u'浏览行为数据',u'浏览子行为编号']\n",
    "train_browse_history.head()"
   ]
  },
  {
   "cell_type": "code",
   "execution_count": 21,
   "metadata": {
    "collapsed": false
   },
   "outputs": [
    {
     "name": "stdout",
     "output_type": "stream",
     "text": [
      "<class 'pandas.core.frame.DataFrame'>\n",
      "RangeIndex: 22919547 entries, 0 to 22919546\n",
      "Data columns (total 4 columns):\n",
      "用户id       int64\n",
      "时间戳        int64\n",
      "浏览行为数据     int64\n",
      "浏览子行为编号    int64\n",
      "dtypes: int64(4)\n",
      "memory usage: 699.4 MB\n"
     ]
    }
   ],
   "source": [
    "train_browse_history.info()"
   ]
  },
  {
   "cell_type": "markdown",
   "metadata": {},
   "source": [
    "# 4. 信用卡账单记录bill_detail.txt。共15个字段，其中，第2个字段，时间戳为0表示时间未知。为方便浏览，字段以表格的形式给出。\n",
    "\n",
    ">   用户id,账单时间戳,银行id,上期账单金额,上期还款金额,信用卡额度,本期账单余额,本期账单最低还款额,消费笔数,本期账单金额,调整金额,循环利息,可用金额,预借现金额度,还款状态"
   ]
  },
  {
   "cell_type": "code",
   "execution_count": 10,
   "metadata": {
    "collapsed": false
   },
   "outputs": [
    {
     "data": {
      "text/html": [
       "<div>\n",
       "<table border=\"1\" class=\"dataframe\">\n",
       "  <thead>\n",
       "    <tr style=\"text-align: right;\">\n",
       "      <th></th>\n",
       "      <th>用户id</th>\n",
       "      <th>账单时间戳</th>\n",
       "      <th>银行id</th>\n",
       "      <th>上期账单金额</th>\n",
       "      <th>上期还款金额</th>\n",
       "      <th>信用卡额度</th>\n",
       "      <th>本期账单余额</th>\n",
       "      <th>本期账单最低还款额</th>\n",
       "      <th>消费笔数</th>\n",
       "      <th>本期账单金额</th>\n",
       "      <th>调整金额</th>\n",
       "      <th>循环利息</th>\n",
       "      <th>可用金额</th>\n",
       "      <th>预借现金额度</th>\n",
       "      <th>还款状态</th>\n",
       "    </tr>\n",
       "  </thead>\n",
       "  <tbody>\n",
       "    <tr>\n",
       "      <th>0</th>\n",
       "      <td>3150</td>\n",
       "      <td>5906744363</td>\n",
       "      <td>6</td>\n",
       "      <td>18.626118</td>\n",
       "      <td>18.661937</td>\n",
       "      <td>20.664418</td>\n",
       "      <td>18.905766</td>\n",
       "      <td>17.847133</td>\n",
       "      <td>1</td>\n",
       "      <td>0.0</td>\n",
       "      <td>0.0</td>\n",
       "      <td>0.0</td>\n",
       "      <td>0.0</td>\n",
       "      <td>19.971271</td>\n",
       "      <td>0</td>\n",
       "    </tr>\n",
       "    <tr>\n",
       "      <th>1</th>\n",
       "      <td>3150</td>\n",
       "      <td>5906744401</td>\n",
       "      <td>6</td>\n",
       "      <td>18.905766</td>\n",
       "      <td>18.909954</td>\n",
       "      <td>20.664418</td>\n",
       "      <td>19.113305</td>\n",
       "      <td>17.911506</td>\n",
       "      <td>1</td>\n",
       "      <td>0.0</td>\n",
       "      <td>0.0</td>\n",
       "      <td>0.0</td>\n",
       "      <td>0.0</td>\n",
       "      <td>19.971271</td>\n",
       "      <td>0</td>\n",
       "    </tr>\n",
       "    <tr>\n",
       "      <th>2</th>\n",
       "      <td>3150</td>\n",
       "      <td>5906744427</td>\n",
       "      <td>6</td>\n",
       "      <td>19.113305</td>\n",
       "      <td>19.150290</td>\n",
       "      <td>20.664418</td>\n",
       "      <td>19.300194</td>\n",
       "      <td>17.977610</td>\n",
       "      <td>1</td>\n",
       "      <td>0.0</td>\n",
       "      <td>0.0</td>\n",
       "      <td>0.0</td>\n",
       "      <td>0.0</td>\n",
       "      <td>19.971271</td>\n",
       "      <td>0</td>\n",
       "    </tr>\n",
       "    <tr>\n",
       "      <th>3</th>\n",
       "      <td>3150</td>\n",
       "      <td>5906744515</td>\n",
       "      <td>6</td>\n",
       "      <td>19.300194</td>\n",
       "      <td>19.300280</td>\n",
       "      <td>21.000890</td>\n",
       "      <td>20.303240</td>\n",
       "      <td>18.477177</td>\n",
       "      <td>1</td>\n",
       "      <td>0.0</td>\n",
       "      <td>0.0</td>\n",
       "      <td>0.0</td>\n",
       "      <td>0.0</td>\n",
       "      <td>20.307743</td>\n",
       "      <td>0</td>\n",
       "    </tr>\n",
       "    <tr>\n",
       "      <th>4</th>\n",
       "      <td>3150</td>\n",
       "      <td>5906744562</td>\n",
       "      <td>6</td>\n",
       "      <td>20.303240</td>\n",
       "      <td>20.307744</td>\n",
       "      <td>21.000890</td>\n",
       "      <td>20.357134</td>\n",
       "      <td>18.510985</td>\n",
       "      <td>1</td>\n",
       "      <td>0.0</td>\n",
       "      <td>0.0</td>\n",
       "      <td>0.0</td>\n",
       "      <td>0.0</td>\n",
       "      <td>20.307743</td>\n",
       "      <td>0</td>\n",
       "    </tr>\n",
       "  </tbody>\n",
       "</table>\n",
       "</div>"
      ],
      "text/plain": [
       "   用户id       账单时间戳  银行id     上期账单金额     上期还款金额      信用卡额度     本期账单余额  \\\n",
       "0  3150  5906744363     6  18.626118  18.661937  20.664418  18.905766   \n",
       "1  3150  5906744401     6  18.905766  18.909954  20.664418  19.113305   \n",
       "2  3150  5906744427     6  19.113305  19.150290  20.664418  19.300194   \n",
       "3  3150  5906744515     6  19.300194  19.300280  21.000890  20.303240   \n",
       "4  3150  5906744562     6  20.303240  20.307744  21.000890  20.357134   \n",
       "\n",
       "   本期账单最低还款额  消费笔数  本期账单金额  调整金额  循环利息  可用金额     预借现金额度  还款状态  \n",
       "0  17.847133     1     0.0   0.0   0.0   0.0  19.971271     0  \n",
       "1  17.911506     1     0.0   0.0   0.0   0.0  19.971271     0  \n",
       "2  17.977610     1     0.0   0.0   0.0   0.0  19.971271     0  \n",
       "3  18.477177     1     0.0   0.0   0.0   0.0  20.307743     0  \n",
       "4  18.510985     1     0.0   0.0   0.0   0.0  20.307743     0  "
      ]
     },
     "execution_count": 10,
     "metadata": {},
     "output_type": "execute_result"
    }
   ],
   "source": [
    "train_bill_detail = pd.read_csv(\"train/bill_detail_train.txt\", header=None)\n",
    "train_bill_detail.columns = [ u'用户id',u'账单时间戳',u'银行id',u'上期账单金额',\n",
    "                             u'上期还款金额',u'信用卡额度',u'本期账单余额',\n",
    "                             u'本期账单最低还款额',u'消费笔数',u'本期账单金额',\n",
    "                             u'调整金额',u'循环利息',u'可用金额',\n",
    "                             u'预借现金额度',u'还款状态']\n",
    "train_bill_detail.head()"
   ]
  },
  {
   "cell_type": "code",
   "execution_count": 20,
   "metadata": {
    "collapsed": false
   },
   "outputs": [
    {
     "name": "stdout",
     "output_type": "stream",
     "text": [
      "<class 'pandas.core.frame.DataFrame'>\n",
      "RangeIndex: 2338118 entries, 0 to 2338117\n",
      "Data columns (total 15 columns):\n",
      "用户id         int64\n",
      "账单时间戳        int64\n",
      "银行id         int64\n",
      "上期账单金额       float64\n",
      "上期还款金额       float64\n",
      "信用卡额度        float64\n",
      "本期账单余额       float64\n",
      "本期账单最低还款额    float64\n",
      "消费笔数         int64\n",
      "本期账单金额       float64\n",
      "调整金额         float64\n",
      "循环利息         float64\n",
      "可用金额         float64\n",
      "预借现金额度       float64\n",
      "还款状态         int64\n",
      "dtypes: float64(10), int64(5)\n",
      "memory usage: 267.6 MB\n"
     ]
    }
   ],
   "source": [
    "train_bill_detail.info()"
   ]
  },
  {
   "cell_type": "markdown",
   "metadata": {},
   "source": [
    "# 5放款时间信息loan_time.txt。共2个字段，用户id和放款时间。 \n",
    "\n",
    "> 用户id,放款时间"
   ]
  },
  {
   "cell_type": "code",
   "execution_count": 11,
   "metadata": {
    "collapsed": false
   },
   "outputs": [
    {
     "data": {
      "text/html": [
       "<div>\n",
       "<table border=\"1\" class=\"dataframe\">\n",
       "  <thead>\n",
       "    <tr style=\"text-align: right;\">\n",
       "      <th></th>\n",
       "      <th>用户id</th>\n",
       "      <th>放款时间</th>\n",
       "    </tr>\n",
       "  </thead>\n",
       "  <tbody>\n",
       "    <tr>\n",
       "      <th>0</th>\n",
       "      <td>1</td>\n",
       "      <td>5914855887</td>\n",
       "    </tr>\n",
       "    <tr>\n",
       "      <th>1</th>\n",
       "      <td>2</td>\n",
       "      <td>5914855887</td>\n",
       "    </tr>\n",
       "    <tr>\n",
       "      <th>2</th>\n",
       "      <td>3</td>\n",
       "      <td>5914855887</td>\n",
       "    </tr>\n",
       "    <tr>\n",
       "      <th>3</th>\n",
       "      <td>4</td>\n",
       "      <td>5914855887</td>\n",
       "    </tr>\n",
       "    <tr>\n",
       "      <th>4</th>\n",
       "      <td>5</td>\n",
       "      <td>5914855887</td>\n",
       "    </tr>\n",
       "  </tbody>\n",
       "</table>\n",
       "</div>"
      ],
      "text/plain": [
       "   用户id        放款时间\n",
       "0     1  5914855887\n",
       "1     2  5914855887\n",
       "2     3  5914855887\n",
       "3     4  5914855887\n",
       "4     5  5914855887"
      ]
     },
     "execution_count": 11,
     "metadata": {},
     "output_type": "execute_result"
    }
   ],
   "source": [
    "train_loan_time = pd.read_csv(\"train/loan_time_train.txt\", header=None)\n",
    "train_loan_time.columns = [u'用户id',u'放款时间']\n",
    "train_loan_time.head()"
   ]
  },
  {
   "cell_type": "code",
   "execution_count": 19,
   "metadata": {
    "collapsed": false
   },
   "outputs": [
    {
     "name": "stdout",
     "output_type": "stream",
     "text": [
      "<class 'pandas.core.frame.DataFrame'>\n",
      "RangeIndex: 55596 entries, 0 to 55595\n",
      "Data columns (total 2 columns):\n",
      "用户id    55596 non-null int64\n",
      "放款时间    55596 non-null int64\n",
      "dtypes: int64(2)\n",
      "memory usage: 868.8 KB\n"
     ]
    }
   ],
   "source": [
    "train_loan_time.info()"
   ]
  },
  {
   "cell_type": "markdown",
   "metadata": {},
   "source": [
    "# 6.顾客是否发生逾期行为的记录overdue.txt。共2个字段。样本标签为1，表示逾期30天以上；样本标签为0，表示逾期10天以内。\n",
    "\n",
    "> 注意：逾期10天~30天之内的用户，并不在此问题考虑的范围内。用于测试的用户，只提供id列表，文件名为testUsers.csv\n",
    "\n",
    "> 用户id,样本标签"
   ]
  },
  {
   "cell_type": "code",
   "execution_count": 18,
   "metadata": {
    "collapsed": false
   },
   "outputs": [
    {
     "data": {
      "text/html": [
       "<div>\n",
       "<table border=\"1\" class=\"dataframe\">\n",
       "  <thead>\n",
       "    <tr style=\"text-align: right;\">\n",
       "      <th></th>\n",
       "      <th>用户id</th>\n",
       "      <th>样本标签</th>\n",
       "    </tr>\n",
       "  </thead>\n",
       "  <tbody>\n",
       "    <tr>\n",
       "      <th>0</th>\n",
       "      <td>1</td>\n",
       "      <td>0</td>\n",
       "    </tr>\n",
       "    <tr>\n",
       "      <th>1</th>\n",
       "      <td>2</td>\n",
       "      <td>0</td>\n",
       "    </tr>\n",
       "    <tr>\n",
       "      <th>2</th>\n",
       "      <td>3</td>\n",
       "      <td>0</td>\n",
       "    </tr>\n",
       "    <tr>\n",
       "      <th>3</th>\n",
       "      <td>4</td>\n",
       "      <td>1</td>\n",
       "    </tr>\n",
       "    <tr>\n",
       "      <th>4</th>\n",
       "      <td>5</td>\n",
       "      <td>0</td>\n",
       "    </tr>\n",
       "  </tbody>\n",
       "</table>\n",
       "</div>"
      ],
      "text/plain": [
       "   用户id  样本标签\n",
       "0     1     0\n",
       "1     2     0\n",
       "2     3     0\n",
       "3     4     1\n",
       "4     5     0"
      ]
     },
     "execution_count": 18,
     "metadata": {},
     "output_type": "execute_result"
    }
   ],
   "source": [
    "train_overdue = pd.read_csv('train/overdue_train.txt', header=None)\n",
    "train_overdue.columns = [u'用户id',u'样本标签']\n",
    "train_overdue.head()"
   ]
  },
  {
   "cell_type": "code",
   "execution_count": 16,
   "metadata": {
    "collapsed": false
   },
   "outputs": [
    {
     "name": "stdout",
     "output_type": "stream",
     "text": [
      "<class 'pandas.core.frame.DataFrame'>\n",
      "RangeIndex: 55596 entries, 0 to 55595\n",
      "Data columns (total 2 columns):\n",
      "用户id    55596 non-null int64\n",
      "样本标签    55596 non-null int64\n",
      "dtypes: int64(2)\n",
      "memory usage: 868.8 KB\n"
     ]
    }
   ],
   "source": [
    "train_overdue.info()"
   ]
  },
  {
   "cell_type": "markdown",
   "metadata": {},
   "source": []
  }
 ],
 "metadata": {
  "anaconda-cloud": {},
  "kernelspec": {
   "display_name": "Python [default]",
   "language": "python",
   "name": "python2"
  },
  "language_info": {
   "codemirror_mode": {
    "name": "ipython",
    "version": 2
   },
   "file_extension": ".py",
   "mimetype": "text/x-python",
   "name": "python",
   "nbconvert_exporter": "python",
   "pygments_lexer": "ipython2",
   "version": "2.7.12"
  }
 },
 "nbformat": 4,
 "nbformat_minor": 1
}
